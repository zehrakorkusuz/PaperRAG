{
 "cells": [
  {
   "cell_type": "code",
   "execution_count": 14,
   "metadata": {},
   "outputs": [],
   "source": [
    "from datasets import load_dataset\n",
    "\n",
    "ds = load_dataset(\"futurehouse/lab-bench\", \"LitQA2\")"
   ]
  },
  {
   "cell_type": "code",
   "execution_count": 15,
   "metadata": {},
   "outputs": [
    {
     "name": "stderr",
     "output_type": "stream",
     "text": [
      "Creating CSV from Arrow format: 100%|██████████| 1/1 [00:00<00:00, 41.63ba/s]\n"
     ]
    },
    {
     "data": {
      "text/plain": [
       "175783"
      ]
     },
     "execution_count": 15,
     "metadata": {},
     "output_type": "execute_result"
    }
   ],
   "source": [
    "ds[\"train\"].to_csv(\"train.csv\")"
   ]
  },
  {
   "cell_type": "code",
   "execution_count": 22,
   "metadata": {},
   "outputs": [
    {
     "data": {
      "text/plain": [
       "Index(['id', 'question', 'ideal', 'distractors', 'canary', 'tag', 'version',\n",
       "       'sources', 'is_opensource', 'subtask', 'key-passage'],\n",
       "      dtype='object')"
      ]
     },
     "execution_count": 22,
     "metadata": {},
     "output_type": "execute_result"
    }
   ],
   "source": [
    "import pandas as pd\n",
    "df = pd.read_csv(\"train.csv\")\n",
    "df.columns"
   ]
  },
  {
   "cell_type": "code",
   "execution_count": null,
   "metadata": {},
   "outputs": [],
   "source": [
    "import requests\n",
    "def fetch_pdf_link(doi, email):\n",
    "    \"\"\"\n",
    "    Fetches the PDF link for a given DOI using the Unpaywall API.\n",
    "    \"\"\"\n",
    "    url = f\"https://api.unpaywall.org/v2/{doi}?email={email}\"\n",
    "    response = requests.get(url)\n",
    "    if response.status_code == 200:\n",
    "        data = response.json()\n",
    "        pdf_url = data.get('best_oa_location', {}).get('url_for_pdf', None)\n",
    "        return pdf_url\n",
    "    else:\n",
    "        return None\n",
    "\n",
    "# Add your email (required for Unpaywall API)\n",
    "email = \"wzehrakorkusuz@gmail.com\"\n",
    "\n",
    "# Fetch PDF links for all DOIs\n",
    "df['pdf_url'] = df['sources'].apply(lambda x: fetch_pdf_link(x, email))"
   ]
  },
  {
   "cell_type": "code",
   "execution_count": null,
   "metadata": {},
   "outputs": [],
   "source": [
    "import os\n",
    "\n",
    "def download_pdf(pdf_url, output_dir, article_id):\n",
    "    \"\"\"\n",
    "    Downloads the PDF file from the given URL.\n",
    "    \"\"\"\n",
    "    if not pdf_url:\n",
    "        print(f\"No PDF available for {article_id}\")\n",
    "        return\n",
    "    \n",
    "    try:\n",
    "        response = requests.get(pdf_url, stream=True)\n",
    "        if response.status_code == 200:\n",
    "            # Save the PDF to the specified directory\n",
    "            os.makedirs(output_dir, exist_ok=True)\n",
    "            file_path = os.path.join(output_dir, f\"{article_id}.pdf\")\n",
    "            with open(file_path, 'wb') as pdf_file:\n",
    "                pdf_file.write(response.content)\n",
    "            print(f\"Downloaded: {file_path}\")\n",
    "        else:\n",
    "            print(f\"Failed to download PDF for {article_id}: {response.status_code}\")\n",
    "    except Exception as e:\n",
    "        print(f\"Error downloading PDF for {article_id}: {e}\")\n",
    "\n",
    "# Directory to save PDFs\n",
    "output_dir = \"pdfs\"\n",
    "\n",
    "# Download PDFs\n",
    "df.apply(lambda row: download_pdf(row['pdf_url'], output_dir, row['id']), axis=1)\n"
   ]
  },
  {
   "cell_type": "code",
   "execution_count": null,
   "metadata": {},
   "outputs": [],
   "source": []
  }
 ],
 "metadata": {
  "kernelspec": {
   "display_name": "code-review-rag",
   "language": "python",
   "name": "python3"
  },
  "language_info": {
   "codemirror_mode": {
    "name": "ipython",
    "version": 3
   },
   "file_extension": ".py",
   "mimetype": "text/x-python",
   "name": "python",
   "nbconvert_exporter": "python",
   "pygments_lexer": "ipython3",
   "version": "3.10.16"
  }
 },
 "nbformat": 4,
 "nbformat_minor": 2
}
